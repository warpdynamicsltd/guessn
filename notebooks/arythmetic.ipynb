{
 "cells": [
  {
   "cell_type": "code",
   "execution_count": 1,
   "metadata": {},
   "outputs": [],
   "source": [
    "%load_ext autoreload\n",
    "%autoreload 2"
   ]
  },
  {
   "cell_type": "code",
   "execution_count": 2,
   "metadata": {},
   "outputs": [],
   "source": [
    "from guessn.core import GF\n",
    "from guessn.models.arythmetic.congruence_gen import CongruenceGen\n",
    "from guessn.themes.arythmetic.simple_ascii import SmartBracketsAsciiTheme\n",
    "\n",
    "GF.default_theme = SmartBracketsAsciiTheme()"
   ]
  },
  {
   "cell_type": "code",
   "execution_count": 3,
   "metadata": {},
   "outputs": [],
   "source": [
    "puzzle_gen = CongruenceGen(_min=20, _max=50, n_vars=3)"
   ]
  },
  {
   "cell_type": "code",
   "execution_count": 6,
   "metadata": {},
   "outputs": [],
   "source": [
    "formulas, substitution = puzzle_gen.gen_formulas()"
   ]
  },
  {
   "cell_type": "code",
   "execution_count": null,
   "metadata": {},
   "outputs": [
    {
     "name": "stdout",
     "output_type": "stream",
     "text": [
      "\n",
      "Find integers A, B, C all from 20 to 50 (included)\n",
      "which satisfy the following list of constrains:\n",
      "\n",
      "3 | 5 - B and 2 | 2 - B\n",
      "5 | A + C or 2 | C - B\n",
      "6 | 1 - C or 7 | 4 + A\n",
      "5 | C - B and 3 | 2 + C\n",
      "4 | C + A and 3 | 4 - C\n",
      "3 | B + C and 5 | 4 + A\n",
      "\n",
      "Present solution in a valid JSON format.\n",
      "***\n",
      "{A: 31, B: 44, C: 49}\n"
     ]
    },
    {
     "ename": "",
     "evalue": "",
     "output_type": "error",
     "traceback": [
      "\u001b[1;31mThe Kernel crashed while executing code in the current cell or a previous cell. \n",
      "\u001b[1;31mPlease review the code in the cell(s) to identify a possible cause of the failure. \n",
      "\u001b[1;31mClick <a href='https://aka.ms/vscodeJupyterKernelCrash'>here</a> for more info. \n",
      "\u001b[1;31mView Jupyter <a href='command:jupyter.viewOutput'>log</a> for further details."
     ]
    }
   ],
   "source": [
    "prompt = f\"\"\"\n",
    "Find integers {', '.join(map(repr, puzzle_gen.vars))} all from {puzzle_gen.min} to {puzzle_gen.max} (included)\n",
    "which satisfy the following list of constrains:\n",
    "\n",
    "{chr(10).join(map(lambda f: str(f), formulas))}\n",
    "\n",
    "Present solution in a valid JSON format.\"\"\"\n",
    "\n",
    "print(prompt)\n",
    "print('***')\n",
    "print(substitution)"
   ]
  }
 ],
 "metadata": {
  "kernelspec": {
   "display_name": ".venv",
   "language": "python",
   "name": "python3"
  },
  "language_info": {
   "codemirror_mode": {
    "name": "ipython",
    "version": 3
   },
   "file_extension": ".py",
   "mimetype": "text/x-python",
   "name": "python",
   "nbconvert_exporter": "python",
   "pygments_lexer": "ipython3",
   "version": "3.9.13"
  }
 },
 "nbformat": 4,
 "nbformat_minor": 2
}
