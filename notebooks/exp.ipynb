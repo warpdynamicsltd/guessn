{
 "cells": [
  {
   "cell_type": "code",
   "execution_count": 1,
   "metadata": {},
   "outputs": [],
   "source": [
    "%load_ext autoreload\n",
    "%autoreload 2"
   ]
  },
  {
   "cell_type": "code",
   "execution_count": null,
   "metadata": {},
   "outputs": [],
   "source": [
    "import guessn\n",
    "from guessn.models.arythmetic import Divides, Add, Mul\n",
    "from guessn.core import *\n",
    "from guessn.models.logic import AND, OR, NOT\n",
    "from guessn.themes.arythmetic.simple_ascii import SimpleAsciiTheme, SmartBracketsAsciiTheme\n",
    "from guessn.models.arythmetic.congruence_gen import CongruenceGen\n",
    "\n",
    "GF.default_theme = SmartBracketsAsciiTheme()"
   ]
  },
  {
   "cell_type": "code",
   "execution_count": 17,
   "metadata": {},
   "outputs": [],
   "source": [
    "cg = CongruenceGen(_min=20, _max=50, n_vars=4, max_n_formulas=20)"
   ]
  },
  {
   "cell_type": "code",
   "execution_count": 12,
   "metadata": {},
   "outputs": [
    {
     "data": {
      "text/plain": [
       "[A, B, C]"
      ]
     },
     "execution_count": 12,
     "metadata": {},
     "output_type": "execute_result"
    }
   ],
   "source": [
    "cg.vars"
   ]
  },
  {
   "cell_type": "code",
   "execution_count": 13,
   "metadata": {},
   "outputs": [],
   "source": [
    "formulas, substitution = cg.gen_candidates_formulas()"
   ]
  },
  {
   "cell_type": "code",
   "execution_count": 16,
   "metadata": {},
   "outputs": [
    {
     "data": {
      "text/plain": [
       "([7 | A - C or 3 | 3 + B,\n",
       "  5 | 4 - C or 6 | 5 - B,\n",
       "  7 | 5 + A or 6 | 1 - C,\n",
       "  2 | 4 - B and 6 | 4 - A,\n",
       "  7 | 3 - B and 7 | 1 - A],\n",
       " {A: 22, B: 24, C: 49})"
      ]
     },
     "execution_count": 16,
     "metadata": {},
     "output_type": "execute_result"
    }
   ],
   "source": [
    "cg.gen_formulas()"
   ]
  },
  {
   "cell_type": "code",
   "execution_count": 17,
   "metadata": {},
   "outputs": [
    {
     "data": {
      "text/plain": [
       "{A: 47, B: 28, C: 35, D: 34, E: 47}"
      ]
     },
     "execution_count": 17,
     "metadata": {},
     "output_type": "execute_result"
    }
   ],
   "source": [
    "substitution = cg.rnd_substitution()\n",
    "substitution"
   ]
  },
  {
   "cell_type": "code",
   "execution_count": 19,
   "metadata": {},
   "outputs": [
    {
     "data": {
      "text/plain": [
       "[4 | C - A or 2 | 2 + A,\n",
       " 6 | 4 - D or 5 | C - B,\n",
       " 3 | 2 - E or 2 | A + B,\n",
       " 2 | D + B and 6 | B - D,\n",
       " 5 | 2 + D or 6 | C - E,\n",
       " 3 | D - A or 4 | C - A,\n",
       " 2 | 2 + B and 3 | D + A,\n",
       " 2 | 2 - B or 3 | D - B,\n",
       " 2 | 1 - E and 6 | A - C,\n",
       " 3 | 2 - E and 5 | 3 + A,\n",
       " 4 | A - E or 7 | 4 + D,\n",
       " 2 | B + C or 2 | B + D,\n",
       " 6 | 5 - C and 2 | A + C,\n",
       " 7 | E + C or 3 | A - C,\n",
       " 6 | B - D or 3 | 2 + C,\n",
       " 6 | B - D or 3 | A + B,\n",
       " 3 | A + B and 4 | A - E,\n",
       " 3 | 4 + E and 4 | 4 + B,\n",
       " 6 | 1 + C and 2 | A - C,\n",
       " 4 | 3 - D or 2 | 2 - B]"
      ]
     },
     "execution_count": 19,
     "metadata": {},
     "output_type": "execute_result"
    }
   ],
   "source": [
    "cg.rnd_formulas(20, substitution)\n"
   ]
  },
  {
   "cell_type": "code",
   "execution_count": 9,
   "metadata": {},
   "outputs": [],
   "source": [
    "p = cg.rnd_div_form([A_, B_])"
   ]
  },
  {
   "cell_type": "code",
   "execution_count": 10,
   "metadata": {},
   "outputs": [
    {
     "data": {
      "text/plain": [
       "5 | 2 + A"
      ]
     },
     "execution_count": 10,
     "metadata": {},
     "output_type": "execute_result"
    }
   ],
   "source": [
    "p"
   ]
  },
  {
   "cell_type": "code",
   "execution_count": 26,
   "metadata": {},
   "outputs": [],
   "source": [
    "q = Divides(2, Add(X_, 3)) & (~Divides(3, Mul(2, Add(X_, 5))) | Divides(3, X_))"
   ]
  },
  {
   "cell_type": "code",
   "execution_count": 5,
   "metadata": {},
   "outputs": [],
   "source": [
    "t = Mul(2, Add(X_, 5))"
   ]
  },
  {
   "cell_type": "code",
   "execution_count": 6,
   "metadata": {},
   "outputs": [
    {
     "data": {
      "text/plain": [
       "'2 * (X + 5)'"
      ]
     },
     "execution_count": 6,
     "metadata": {},
     "output_type": "execute_result"
    }
   ],
   "source": [
    "theme.repr(t)"
   ]
  },
  {
   "cell_type": "code",
   "execution_count": 27,
   "metadata": {},
   "outputs": [
    {
     "data": {
      "text/plain": [
       "'2 | X + 3 and (~ 3 | 2 * (X + 5) or 3 | X)'"
      ]
     },
     "execution_count": 27,
     "metadata": {},
     "output_type": "execute_result"
    }
   ],
   "source": [
    "theme.repr(q)"
   ]
  },
  {
   "cell_type": "code",
   "execution_count": 48,
   "metadata": {},
   "outputs": [
    {
     "data": {
      "text/plain": [
       "True"
      ]
     },
     "execution_count": 48,
     "metadata": {},
     "output_type": "execute_result"
    }
   ],
   "source": [
    "isinstance(q, GF)"
   ]
  },
  {
   "cell_type": "code",
   "execution_count": 9,
   "metadata": {},
   "outputs": [],
   "source": [
    "a = q.substitute({X_:Y_})"
   ]
  },
  {
   "cell_type": "code",
   "execution_count": 10,
   "metadata": {},
   "outputs": [
    {
     "data": {
      "text/plain": [
       "'((2 | (Y + 3)) and (~(3 | (2 * Y))))'"
      ]
     },
     "execution_count": 10,
     "metadata": {},
     "output_type": "execute_result"
    }
   ],
   "source": [
    "theme.repr(a)"
   ]
  },
  {
   "cell_type": "code",
   "execution_count": 15,
   "metadata": {},
   "outputs": [
    {
     "data": {
      "text/plain": [
       "True"
      ]
     },
     "execution_count": 15,
     "metadata": {},
     "output_type": "execute_result"
    }
   ],
   "source": [
    "a({Y_:5})"
   ]
  },
  {
   "cell_type": "code",
   "execution_count": 45,
   "metadata": {},
   "outputs": [
    {
     "data": {
      "text/plain": [
       "True"
      ]
     },
     "execution_count": 45,
     "metadata": {},
     "output_type": "execute_result"
    }
   ],
   "source": [
    "q({X_:11})"
   ]
  }
 ],
 "metadata": {
  "kernelspec": {
   "display_name": ".venv",
   "language": "python",
   "name": "python3"
  },
  "language_info": {
   "codemirror_mode": {
    "name": "ipython",
    "version": 3
   },
   "file_extension": ".py",
   "mimetype": "text/x-python",
   "name": "python",
   "nbconvert_exporter": "python",
   "pygments_lexer": "ipython3",
   "version": "3.9.13"
  }
 },
 "nbformat": 4,
 "nbformat_minor": 2
}
