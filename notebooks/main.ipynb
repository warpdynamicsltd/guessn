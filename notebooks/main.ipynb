{
 "cells": [
  {
   "cell_type": "code",
   "execution_count": 103,
   "metadata": {},
   "outputs": [
    {
     "name": "stdout",
     "output_type": "stream",
     "text": [
      "The autoreload extension is already loaded. To reload it, use:\n",
      "  %reload_ext autoreload\n"
     ]
    }
   ],
   "source": [
    "%load_ext autoreload\n",
    "%autoreload 2"
   ]
  },
  {
   "cell_type": "code",
   "execution_count": 624,
   "metadata": {},
   "outputs": [],
   "source": [
    "from guessn.fundation import GF\n",
    "from guessn.models.arythmetic.congruence_gen import CongruenceGen\n",
    "from guessn.themes.arythmetic.simple_ascii import SmartBracketsAsciiTheme\n",
    "\n",
    "GF.default_theme = SmartBracketsAsciiTheme()"
   ]
  },
  {
   "cell_type": "code",
   "execution_count": 656,
   "metadata": {},
   "outputs": [],
   "source": [
    "puzzle_gen = CongruenceGen(_min=20, _max=50, n_vars=3)"
   ]
  },
  {
   "cell_type": "code",
   "execution_count": 657,
   "metadata": {},
   "outputs": [],
   "source": [
    "formulas, substitution = puzzle_gen.gen_formulas()"
   ]
  },
  {
   "cell_type": "code",
   "execution_count": 658,
   "metadata": {},
   "outputs": [
    {
     "name": "stdout",
     "output_type": "stream",
     "text": [
      "\n",
      "Find integers A, B, C all from 20 to 50 (included)\n",
      "which satisfy the following list of constrains:\n",
      "\n",
      "5 | A + C and 3 | 2 - B\n",
      "5 | 4 - B or 3 | A + C\n",
      "2 | 3 - C and 3 | 2 + C\n",
      "7 | B + A and 2 | 3 - C\n",
      "2 | 2 - A and 3 | 3 - A\n",
      "\n",
      "Present solution in a valid JSON format.\n",
      "***\n",
      "{A: 48, B: 29, C: 37}\n"
     ]
    }
   ],
   "source": [
    "prompt = f\"\"\"\n",
    "Find integers {', '.join(map(repr, puzzle_gen.vars))} all from {puzzle_gen.min} to {puzzle_gen.max} (included)\n",
    "which satisfy the following list of constrains:\n",
    "\n",
    "{chr(10).join(map(lambda f: str(f), formulas))}\n",
    "\n",
    "Present solution in a valid JSON format.\"\"\"\n",
    "\n",
    "print(prompt)\n",
    "print('***')\n",
    "print(substitution)"
   ]
  }
 ],
 "metadata": {
  "kernelspec": {
   "display_name": ".venv",
   "language": "python",
   "name": "python3"
  },
  "language_info": {
   "codemirror_mode": {
    "name": "ipython",
    "version": 3
   },
   "file_extension": ".py",
   "mimetype": "text/x-python",
   "name": "python",
   "nbconvert_exporter": "python",
   "pygments_lexer": "ipython3",
   "version": "3.9.13"
  }
 },
 "nbformat": 4,
 "nbformat_minor": 2
}
