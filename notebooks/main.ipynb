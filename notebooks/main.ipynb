{
 "cells": [
  {
   "cell_type": "code",
   "execution_count": 1,
   "metadata": {},
   "outputs": [],
   "source": [
    "%load_ext autoreload\n",
    "%autoreload 2"
   ]
  },
  {
   "cell_type": "code",
   "execution_count": 2,
   "metadata": {},
   "outputs": [],
   "source": [
    "from guessn.core import GF\n",
    "from guessn.models.arythmetic.congruence_gen import CongruenceGen\n",
    "from guessn.themes.arythmetic.simple_ascii import SmartBracketsAsciiTheme\n",
    "\n",
    "GF.default_theme = SmartBracketsAsciiTheme()"
   ]
  },
  {
   "cell_type": "code",
   "execution_count": 3,
   "metadata": {},
   "outputs": [],
   "source": [
    "puzzle_gen = CongruenceGen(_min=20, _max=50, n_vars=3)"
   ]
  },
  {
   "cell_type": "code",
   "execution_count": 4,
   "metadata": {},
   "outputs": [],
   "source": [
    "formulas, substitution = puzzle_gen.gen_formulas()"
   ]
  },
  {
   "cell_type": "code",
   "execution_count": 5,
   "metadata": {},
   "outputs": [
    {
     "name": "stdout",
     "output_type": "stream",
     "text": [
      "\n",
      "Find integers A, B, C all from 20 to 50 (included)\n",
      "which satisfy the following list of constrains:\n",
      "\n",
      "5 | 1 - B or 4 | B + C\n",
      "3 | 3 + B or 3 | C - A\n",
      "4 | A - C and 4 | A + C\n",
      "5 | 5 - A and 5 | 5 - A\n",
      "6 | 2 + C or 3 | 3 - C\n",
      "2 | 3 + B and 5 | C + B\n",
      "7 | 5 - A and 2 | C - A\n",
      "\n",
      "Present solution in a valid JSON format.\n",
      "***\n",
      "{A: 40, B: 21, C: 24}\n"
     ]
    }
   ],
   "source": [
    "prompt = f\"\"\"\n",
    "Find integers {', '.join(map(repr, puzzle_gen.vars))} all from {puzzle_gen.min} to {puzzle_gen.max} (included)\n",
    "which satisfy the following list of constrains:\n",
    "\n",
    "{chr(10).join(map(lambda f: str(f), formulas))}\n",
    "\n",
    "Present solution in a valid JSON format.\"\"\"\n",
    "\n",
    "print(prompt)\n",
    "print('***')\n",
    "print(substitution)"
   ]
  }
 ],
 "metadata": {
  "kernelspec": {
   "display_name": ".venv",
   "language": "python",
   "name": "python3"
  },
  "language_info": {
   "codemirror_mode": {
    "name": "ipython",
    "version": 3
   },
   "file_extension": ".py",
   "mimetype": "text/x-python",
   "name": "python",
   "nbconvert_exporter": "python",
   "pygments_lexer": "ipython3",
   "version": "3.9.13"
  }
 },
 "nbformat": 4,
 "nbformat_minor": 2
}
