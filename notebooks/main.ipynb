{
 "cells": [
  {
   "cell_type": "code",
   "execution_count": 103,
   "metadata": {},
   "outputs": [
    {
     "name": "stdout",
     "output_type": "stream",
     "text": [
      "The autoreload extension is already loaded. To reload it, use:\n",
      "  %reload_ext autoreload\n"
     ]
    }
   ],
   "source": [
    "%load_ext autoreload\n",
    "%autoreload 2"
   ]
  },
  {
   "cell_type": "code",
   "execution_count": 555,
   "metadata": {},
   "outputs": [],
   "source": [
    "from guessn.core import LogicFormula, Predicate\n",
    "from guessn.builtin import *\n",
    "from guessn.gen import *"
   ]
  },
  {
   "cell_type": "code",
   "execution_count": 594,
   "metadata": {},
   "outputs": [],
   "source": [
    "_min, _max = 20, 50\n",
    "puzzle_gen = PuzzleGen(_min, _max)"
   ]
  },
  {
   "cell_type": "code",
   "execution_count": 598,
   "metadata": {},
   "outputs": [],
   "source": [
    "formulas, substitution = puzzle_gen.gen_formulas()"
   ]
  },
  {
   "cell_type": "code",
   "execution_count": 600,
   "metadata": {},
   "outputs": [
    {
     "name": "stdout",
     "output_type": "stream",
     "text": [
      "\n",
      "Find integers X, Y, Z all from 20 to 50 (included)\n",
      "which satisfy the following list of constrains:\n",
      "\n",
      "7 | Z + X and 2 | Y - X\n",
      "5 | Y + 1 and 5 | Y - 4\n",
      "6 | X + Y and 4 | Y - X\n",
      "4 | X - Y and 4 | Y + 3\n",
      "5 | Z - 5 and 7 | X - 1\n",
      "\n",
      "Present solution in a valid JSON format.\n",
      "***\n",
      "{'X': 29, 'Y': 49, 'Z': 20}\n"
     ]
    }
   ],
   "source": [
    "prompt = f\"\"\"\n",
    "Find integers X, Y, Z all from {_min} to {_max} (included)\n",
    "which satisfy the following list of constrains:\n",
    "\n",
    "{chr(10).join(map(lambda f: str(f), formulas))}\n",
    "\n",
    "Present solution in a valid JSON format.\"\"\"\n",
    "\n",
    "print(prompt)\n",
    "print('***')\n",
    "print(substitution)"
   ]
  }
 ],
 "metadata": {
  "kernelspec": {
   "display_name": ".venv",
   "language": "python",
   "name": "python3"
  },
  "language_info": {
   "codemirror_mode": {
    "name": "ipython",
    "version": 3
   },
   "file_extension": ".py",
   "mimetype": "text/x-python",
   "name": "python",
   "nbconvert_exporter": "python",
   "pygments_lexer": "ipython3",
   "version": "3.9.13"
  }
 },
 "nbformat": 4,
 "nbformat_minor": 2
}
