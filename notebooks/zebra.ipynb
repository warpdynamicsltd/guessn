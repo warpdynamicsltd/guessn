{
 "cells": [
  {
   "cell_type": "code",
   "execution_count": 1,
   "metadata": {},
   "outputs": [],
   "source": [
    "%load_ext autoreload\n",
    "%autoreload 2"
   ]
  },
  {
   "cell_type": "code",
   "execution_count": 2,
   "metadata": {},
   "outputs": [],
   "source": [
    "from guessn.core import *\n",
    "from guessn.themes.zebra.simple_zebra import SimpleZebraTheme\n",
    "from guessn.models.zebra import ZebraGen\n",
    "\n",
    "GF.default_theme = SimpleZebraTheme()"
   ]
  },
  {
   "cell_type": "code",
   "execution_count": 3,
   "metadata": {},
   "outputs": [],
   "source": [
    "puzzle_gen = ZebraGen()"
   ]
  },
  {
   "cell_type": "code",
   "execution_count": 58,
   "metadata": {},
   "outputs": [],
   "source": [
    "formulas, substitution = puzzle_gen.gen_formulas(max_n_formulas=20)"
   ]
  },
  {
   "cell_type": "code",
   "execution_count": 59,
   "metadata": {},
   "outputs": [
    {
     "name": "stdout",
     "output_type": "stream",
     "text": [
      "\n",
      "There are 4 houses on a street with numbers from 1 to 4.\n",
      "Each house is painted in a distinct color and the colors are: red, green, orange, yellow.\n",
      "Each house is occupied by one of the following people: carpenter, chef, teacher, writer. \n",
      "Each of them has a distinct hobby and the hobbies are: knitting, cooking, playing guitar, painting\n",
      "There are 4 pets: fish, cat, dog, rabbit - one in each house.\n",
      "\n",
      "\n",
      "1. A writer lives in a orange house or a writer is cooking.\n",
      "2. A teacher is cooking or a dog lives in a green house.\n",
      "3. A cat lives in a orange house or a chef lives in a yellow house.\n",
      "4. A carpenter has a cat.\n",
      "5. A dog lives in the house number 4 or a carpenter lives in a yellow house.\n",
      "6. A fish lives in a house with a cooking.\n",
      "7. A person who lives at number 2 is playing guitar.\n",
      "8. A person who lives at number 4 is knitting.\n",
      "9. The house number 3 is yellow.\n",
      "10. The house number 1 is green.\n",
      "\n",
      "Answer what are colors of houses and who lives at which address and what stuff is there. Also answer which hobby is whose.\n",
      "\n",
      "Prepare response in a well formatted JSON like the following example:\n",
      "{\"colors\": [\"red\", \"green\", \"orange\", \"yellow\"], \"hobbies\": [\"knitting\", \"cooking\", \"playing guitar\", \"painting\"], \"pets\": [\"fish\", \"cat\", \"dog\", \"rabbit\"], \"professions\": [\"carpenter\", \"chef\", \"teacher\", \"writer\"]}\n",
      "\n"
     ]
    }
   ],
   "source": [
    "print(puzzle_gen.describe_puzzle(formulas))"
   ]
  },
  {
   "cell_type": "code",
   "execution_count": 61,
   "metadata": {},
   "outputs": [
    {
     "data": {
      "text/plain": [
       "{X: {\"colors\": [\"green\", \"red\", \"yellow\", \"orange\"], \"hobbies\": [\"cooking\", \"playing guitar\", \"painting\", \"knitting\"], \"pets\": [\"fish\", \"cat\", \"rabbit\", \"dog\"], \"professions\": [\"teacher\", \"carpenter\", \"chef\", \"writer\"]}}"
      ]
     },
     "execution_count": 61,
     "metadata": {},
     "output_type": "execute_result"
    }
   ],
   "source": [
    "substitution"
   ]
  }
 ],
 "metadata": {
  "kernelspec": {
   "display_name": ".venv",
   "language": "python",
   "name": "python3"
  },
  "language_info": {
   "codemirror_mode": {
    "name": "ipython",
    "version": 3
   },
   "file_extension": ".py",
   "mimetype": "text/x-python",
   "name": "python",
   "nbconvert_exporter": "python",
   "pygments_lexer": "ipython3",
   "version": "3.9.13"
  }
 },
 "nbformat": 4,
 "nbformat_minor": 2
}
