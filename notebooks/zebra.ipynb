{
 "cells": [
  {
   "cell_type": "code",
   "execution_count": 1,
   "metadata": {},
   "outputs": [],
   "source": [
    "%load_ext autoreload\n",
    "%autoreload 2"
   ]
  },
  {
   "cell_type": "code",
   "execution_count": 2,
   "metadata": {},
   "outputs": [],
   "source": [
    "from guessn.core import *\n",
    "from guessn.themes.zebra.simple_zebra import SimpleZebraTheme\n",
    "from guessn.models.zebra import ZebraGen\n",
    "\n",
    "GF.default_theme = SimpleZebraTheme()"
   ]
  },
  {
   "cell_type": "code",
   "execution_count": 3,
   "metadata": {},
   "outputs": [],
   "source": [
    "puzzle_gen = ZebraGen()"
   ]
  },
  {
   "cell_type": "code",
   "execution_count": 69,
   "metadata": {},
   "outputs": [],
   "source": [
    "formulas, substitution = puzzle_gen.gen_formulas(max_n_formulas=20)"
   ]
  },
  {
   "cell_type": "code",
   "execution_count": 70,
   "metadata": {},
   "outputs": [
    {
     "name": "stdout",
     "output_type": "stream",
     "text": [
      "\n",
      "There are 4 houses on a street with numbers from 1 to 4.\n",
      "Each house is painted in a distinct color and the colors are: red, green, orange, yellow.\n",
      "Each house is occupied by one of the following people: carpenter, chef, teacher, writer. \n",
      "Each of them has a distinct hobby and the hobbies are: knitting, cooking, playing guitar, painting\n",
      "There are 4 pets: fish, cat, dog, rabbit - one in each house.\n",
      "\n",
      "\n",
      "1. A chef lives next to the red house.\n",
      "2. A neighbour of a dog's owner is painting.\n",
      "3. A person who lives at number 3 is playing guitar or a teacher lives at number 3.\n",
      "4. A person who is painting lives next to the orange house.\n",
      "5. A chef is playing guitar or a teacher lives in a yellow house.\n",
      "6. A teacher has a cat.\n",
      "7. A chef is knitting.\n",
      "8. A carpenter's neighbour has a rabbit or a carpenter lives at number 2.\n",
      "9. The house number 1 is orange or a carpenter lives at number 3.\n",
      "10. A rabbit lives in an orange house.\n",
      "\n",
      "Answer what are colors of houses and who lives at which address and what stuff is there. Also answer which hobby is whose.\n",
      "\n",
      "Prepare response in a well formatted JSON like the following example:\n",
      "{\"colors\": [\"red\", \"green\", \"orange\", \"yellow\"], \"hobbies\": [\"knitting\", \"cooking\", \"playing guitar\", \"painting\"], \"pets\": [\"fish\", \"cat\", \"dog\", \"rabbit\"], \"professions\": [\"carpenter\", \"chef\", \"teacher\", \"writer\"]}\n",
      "\n"
     ]
    }
   ],
   "source": [
    "print(puzzle_gen.describe_puzzle(formulas))"
   ]
  },
  {
   "cell_type": "code",
   "execution_count": 75,
   "metadata": {},
   "outputs": [
    {
     "data": {
      "text/plain": [
       "{X: {\"colors\": [\"orange\", \"red\", \"green\", \"yellow\"], \"hobbies\": [\"knitting\", \"painting\", \"playing guitar\", \"cooking\"], \"pets\": [\"rabbit\", \"fish\", \"dog\", \"cat\"], \"professions\": [\"chef\", \"carpenter\", \"writer\", \"teacher\"]}}"
      ]
     },
     "execution_count": 75,
     "metadata": {},
     "output_type": "execute_result"
    }
   ],
   "source": [
    "substitution"
   ]
  },
  {
   "cell_type": "code",
   "execution_count": 73,
   "metadata": {},
   "outputs": [
    {
     "name": "stdout",
     "output_type": "stream",
     "text": [
      "True\n",
      "True\n",
      "True\n",
      "True\n",
      "True\n",
      "True\n",
      "True\n",
      "True\n",
      "True\n",
      "True\n"
     ]
    }
   ],
   "source": [
    "for formula in formulas:\n",
    "  print(formula(substitution))"
   ]
  }
 ],
 "metadata": {
  "kernelspec": {
   "display_name": ".venv",
   "language": "python",
   "name": "python3"
  },
  "language_info": {
   "codemirror_mode": {
    "name": "ipython",
    "version": 3
   },
   "file_extension": ".py",
   "mimetype": "text/x-python",
   "name": "python",
   "nbconvert_exporter": "python",
   "pygments_lexer": "ipython3",
   "version": "3.9.13"
  }
 },
 "nbformat": 4,
 "nbformat_minor": 2
}
