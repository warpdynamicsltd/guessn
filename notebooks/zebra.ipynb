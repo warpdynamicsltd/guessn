{
 "cells": [
  {
   "cell_type": "code",
   "execution_count": 1,
   "metadata": {},
   "outputs": [],
   "source": [
    "%load_ext autoreload\n",
    "%autoreload 2"
   ]
  },
  {
   "cell_type": "code",
   "execution_count": 2,
   "metadata": {},
   "outputs": [],
   "source": [
    "from guessn.core import *\n",
    "from guessn.themes.zebra.simple_zebra import SimpleZebraTheme\n",
    "from guessn.models.zebra import ZebraGen\n",
    "\n",
    "GF.default_theme = SimpleZebraTheme()"
   ]
  },
  {
   "cell_type": "code",
   "execution_count": 3,
   "metadata": {},
   "outputs": [],
   "source": [
    "puzzle_gen = ZebraGen()"
   ]
  },
  {
   "cell_type": "code",
   "execution_count": 8,
   "metadata": {},
   "outputs": [],
   "source": [
    "formulas, substitution = puzzle_gen.gen_formulas(max_n_formulas=20)"
   ]
  },
  {
   "cell_type": "code",
   "execution_count": 9,
   "metadata": {},
   "outputs": [
    {
     "name": "stdout",
     "output_type": "stream",
     "text": [
      "\n",
      "There are 4 houses on a street with numbers from 1 to 4.\n",
      "Each house is painted in a distinct color and the colors are: orange, blue, black, white.\n",
      "Each house is occupied by one of the following people: gardener, chef, carpenter, artist. \n",
      "There are 4 items: clock, vase, rug, curtain - one in each house.\n",
      "There are 4 furnitures: bookshelf, bed, table, wardrobe - one in each house.\n",
      "\n",
      "\n",
      "1. There is a clock in an orange house or an owner of a rug has a bed.\n",
      "2. An artist lives at number 4.\n",
      "3. A chef's neighbour has a wardrobe.\n",
      "4. The house number 1 is blue or a carpenter has a bed.\n",
      "5. There is a curtain in the house number 1 or there is a bookshelf in the house number 2.\n",
      "6. An owner of a clock has a wardrobe.\n",
      "7. There is a curtain in a black house.\n",
      "8. There is a vase in the house number 1.\n",
      "9. The house number 3 is blue.\n",
      "10. The house number 2 is black.\n",
      "\n",
      "Answer what are colors of houses and who lives at which address and what stuff is there.\n",
      "\n",
      "Prepare response in a well formatted JSON like the following example:\n",
      "{\"colors\": [\"orange\", \"blue\", \"black\", \"white\"], \"decor\": [\"clock\", \"vase\", \"rug\", \"curtain\"], \"furniture\": [\"bookshelf\", \"bed\", \"table\", \"wardrobe\"], \"professions\": [\"gardener\", \"chef\", \"carpenter\", \"artist\"]}\n",
      "\n"
     ]
    }
   ],
   "source": [
    "print(puzzle_gen.describe_puzzle(formulas))"
   ]
  },
  {
   "cell_type": "code",
   "execution_count": 10,
   "metadata": {},
   "outputs": [
    {
     "data": {
      "text/plain": [
       "{X: {\"colors\": [\"white\", \"black\", \"blue\", \"orange\"], \"decor\": [\"vase\", \"curtain\", \"rug\", \"clock\"], \"furniture\": [\"bed\", \"bookshelf\", \"table\", \"wardrobe\"], \"professions\": [\"carpenter\", \"gardener\", \"chef\", \"artist\"]}}"
      ]
     },
     "execution_count": 10,
     "metadata": {},
     "output_type": "execute_result"
    }
   ],
   "source": [
    "substitution"
   ]
  }
 ],
 "metadata": {
  "kernelspec": {
   "display_name": ".venv",
   "language": "python",
   "name": "python3"
  },
  "language_info": {
   "codemirror_mode": {
    "name": "ipython",
    "version": 3
   },
   "file_extension": ".py",
   "mimetype": "text/x-python",
   "name": "python",
   "nbconvert_exporter": "python",
   "pygments_lexer": "ipython3",
   "version": "3.10.14"
  }
 },
 "nbformat": 4,
 "nbformat_minor": 2
}
