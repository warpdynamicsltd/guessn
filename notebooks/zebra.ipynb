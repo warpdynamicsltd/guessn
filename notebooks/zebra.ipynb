{
 "cells": [
  {
   "cell_type": "code",
   "execution_count": null,
   "metadata": {},
   "outputs": [
    {
     "name": "stdout",
     "output_type": "stream",
     "text": [
      "The autoreload extension is already loaded. To reload it, use:\n",
      "  %reload_ext autoreload\n"
     ]
    }
   ],
   "source": [
    "%load_ext autoreload\n",
    "%autoreload 2"
   ]
  },
  {
   "cell_type": "code",
   "execution_count": 1,
   "metadata": {},
   "outputs": [],
   "source": [
    "from guessn.core import *\n",
    "from guessn.themes.zebra.simple_zebra import SimpleZebraTheme\n",
    "from guessn.models.zebra import ZebraGen\n",
    "\n",
    "GF.default_theme = SimpleZebraTheme()"
   ]
  },
  {
   "cell_type": "code",
   "execution_count": 2,
   "metadata": {},
   "outputs": [],
   "source": [
    "puzzle_gen = ZebraGen()"
   ]
  },
  {
   "cell_type": "code",
   "execution_count": 3,
   "metadata": {},
   "outputs": [],
   "source": [
    "formulas, substitution = puzzle_gen.gen_formulas(max_n_formulas=20)"
   ]
  },
  {
   "cell_type": "code",
   "execution_count": 9,
   "metadata": {},
   "outputs": [
    {
     "name": "stdout",
     "output_type": "stream",
     "text": [
      "\n",
      "There are 4 houses on a street with numbers from 1 to 4.\n",
      "Each house is painted in a distinct color and the colors are: orange, purple, red, green.\n",
      "Only one person lives in each house and these people are: writer, scientist, chef, artist. \n",
      "There are 4 items: clock, lamp, painting, cushion - one in each house.\n",
      "There are 4 pets: rabbit, hamster, bird, parrot - one in each house.\n",
      "\n",
      "\n",
      "1. Rabbit lives in a orange house.\n",
      "2. Artist lives at number 2.\n",
      "3. Writer lives at number 3.\n",
      "4. Chef lives at number 1.\n",
      "5. Bird lives in a house with a lamp.\n",
      "6. Hamster lives in a house with a cushion.\n",
      "7. There is a cushion in the house number 3.\n",
      "8. There is a painting in the house number 2.\n",
      "9. There is a painting in a purple house.\n",
      "10. The house number 4 is red.\n",
      "\n",
      "\n",
      "Answer who lives at which address and what stuff is there. Prepare respose in a well formated JSON like the following example:\n",
      "{\"colors\": [\"orange\", \"purple\", \"red\", \"green\"], \"decor\": [\"clock\", \"lamp\", \"painting\", \"cushion\"], \"pets\": [\"rabbit\", \"hamster\", \"bird\", \"parrot\"], \"professions\": [\"writer\", \"scientist\", \"chef\", \"artist\"]}\n",
      "\n"
     ]
    }
   ],
   "source": [
    "print(puzzle_gen.describe_puzzle(formulas))"
   ]
  },
  {
   "cell_type": "code",
   "execution_count": 10,
   "metadata": {},
   "outputs": [
    {
     "data": {
      "text/plain": [
       "{X: {\"colors\": [\"orange\", \"purple\", \"green\", \"red\"], \"decor\": [\"clock\", \"painting\", \"cushion\", \"lamp\"], \"pets\": [\"rabbit\", \"parrot\", \"hamster\", \"bird\"], \"professions\": [\"chef\", \"artist\", \"writer\", \"scientist\"]}}"
      ]
     },
     "execution_count": 10,
     "metadata": {},
     "output_type": "execute_result"
    }
   ],
   "source": [
    "substitution"
   ]
  }
 ],
 "metadata": {
  "kernelspec": {
   "display_name": ".venv",
   "language": "python",
   "name": "python3"
  },
  "language_info": {
   "codemirror_mode": {
    "name": "ipython",
    "version": 3
   },
   "file_extension": ".py",
   "mimetype": "text/x-python",
   "name": "python",
   "nbconvert_exporter": "python",
   "pygments_lexer": "ipython3",
   "version": "3.9.13"
  }
 },
 "nbformat": 4,
 "nbformat_minor": 2
}
