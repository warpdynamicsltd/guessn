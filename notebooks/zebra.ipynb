{
 "cells": [
  {
   "cell_type": "code",
   "execution_count": 2,
   "metadata": {},
   "outputs": [],
   "source": [
    "%load_ext autoreload\n",
    "%autoreload 2"
   ]
  },
  {
   "cell_type": "code",
   "execution_count": 3,
   "metadata": {},
   "outputs": [],
   "source": [
    "from guessn.core import *\n",
    "from guessn.themes.zebra.simple_zebra import SimpleZebraTheme\n",
    "from guessn.models.zebra import ZebraGen\n",
    "\n",
    "GF.default_theme = SimpleZebraTheme()"
   ]
  },
  {
   "cell_type": "code",
   "execution_count": 4,
   "metadata": {},
   "outputs": [],
   "source": [
    "puzzle_gen = ZebraGen()"
   ]
  },
  {
   "cell_type": "code",
   "execution_count": 5,
   "metadata": {},
   "outputs": [],
   "source": [
    "formulas, substitution = puzzle_gen.gen_formulas(max_n_formulas=20)"
   ]
  },
  {
   "cell_type": "code",
   "execution_count": 13,
   "metadata": {},
   "outputs": [
    {
     "name": "stdout",
     "output_type": "stream",
     "text": [
      "\n",
      "There are 4 houses on a street with numbers from 1 to 4.\n",
      "Each house is painted in a distinct color and the colors are: green, purple, yellow, blue.\n",
      "Each house is occupied by one of the following people: teacher, musician, chef, writer. \n",
      "There are 4 appliances: refrigerator, vacuum cleaner, air conditioner, washing machine - one in each house.\n",
      "There are 4 furnitures: cabinet, table, wardrobe, sofa - one in each house.\n",
      "\n",
      "\n",
      "1. A writer lives at number 3 or an owner of a vacuum cleaner lives next to the yellow house.\n",
      "2. A musician has a sofa or there is an air conditioner in the house number 3.\n",
      "3. A chef has a table or there is a refrigerator in the house number 4.\n",
      "4. A musician lives in a blue house.\n",
      "5. A writer lives next to the green house.\n",
      "6. A teacher lives in a purple house or there is a cabinet in the house number 3.\n",
      "7. An owner of a washing machine has a table or an owner of an air conditioner has a cabinet.\n",
      "8. The house number 2 is blue.\n",
      "9. An owner of a refrigerator lives next to the green house.\n",
      "10. There is a refrigerator in a blue house.\n",
      "\n",
      "Answer what are colors of houses and who lives at which address and what stuff is there.\n",
      "\n",
      "Prepare response in a well formatted JSON like the following example:\n",
      "{\"appliances\": [\"refrigerator\", \"vacuum cleaner\", \"air conditioner\", \"washing machine\"], \"colors\": [\"green\", \"purple\", \"yellow\", \"blue\"], \"furniture\": [\"cabinet\", \"table\", \"wardrobe\", \"sofa\"], \"professions\": [\"teacher\", \"musician\", \"chef\", \"writer\"]}\n",
      "\n"
     ]
    }
   ],
   "source": [
    "print(puzzle_gen.describe_puzzle(formulas))"
   ]
  },
  {
   "cell_type": "code",
   "execution_count": 14,
   "metadata": {},
   "outputs": [
    {
     "data": {
      "text/plain": [
       "{X: {\"appliances\": [\"washing machine\", \"refrigerator\", \"vacuum cleaner\", \"air conditioner\"], \"colors\": [\"purple\", \"blue\", \"green\", \"yellow\"], \"furniture\": [\"table\", \"sofa\", \"cabinet\", \"wardrobe\"], \"professions\": [\"chef\", \"musician\", \"teacher\", \"writer\"]}}"
      ]
     },
     "execution_count": 14,
     "metadata": {},
     "output_type": "execute_result"
    }
   ],
   "source": [
    "substitution"
   ]
  },
  {
   "cell_type": "code",
   "execution_count": null,
   "metadata": {},
   "outputs": [
    {
     "name": "stdout",
     "output_type": "stream",
     "text": [
      "True\n",
      "True\n",
      "True\n",
      "True\n",
      "True\n",
      "True\n",
      "True\n",
      "True\n",
      "True\n",
      "True\n"
     ]
    },
    {
     "ename": "",
     "evalue": "",
     "output_type": "error",
     "traceback": [
      "\u001b[1;31mThe Kernel crashed while executing code in the current cell or a previous cell. \n",
      "\u001b[1;31mPlease review the code in the cell(s) to identify a possible cause of the failure. \n",
      "\u001b[1;31mClick <a href='https://aka.ms/vscodeJupyterKernelCrash'>here</a> for more info. \n",
      "\u001b[1;31mView Jupyter <a href='command:jupyter.viewOutput'>log</a> for further details."
     ]
    }
   ],
   "source": [
    "for formula in formulas:\n",
    "  print(formula(substitution))"
   ]
  }
 ],
 "metadata": {
  "kernelspec": {
   "display_name": ".venv",
   "language": "python",
   "name": "python3"
  },
  "language_info": {
   "codemirror_mode": {
    "name": "ipython",
    "version": 3
   },
   "file_extension": ".py",
   "mimetype": "text/x-python",
   "name": "python",
   "nbconvert_exporter": "python",
   "pygments_lexer": "ipython3",
   "version": "3.9.13"
  }
 },
 "nbformat": 4,
 "nbformat_minor": 2
}
