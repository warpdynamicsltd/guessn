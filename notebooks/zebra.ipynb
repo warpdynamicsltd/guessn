{
 "cells": [
  {
   "cell_type": "code",
   "execution_count": 1,
   "metadata": {},
   "outputs": [],
   "source": [
    "%load_ext autoreload\n",
    "%autoreload 2"
   ]
  },
  {
   "cell_type": "code",
   "execution_count": 2,
   "metadata": {},
   "outputs": [],
   "source": [
    "from guessn.core import *\n",
    "from guessn.themes.zebra.simple_zebra import SimpleZebraTheme\n",
    "from guessn.models.zebra import ZebraGen\n",
    "\n",
    "GF.default_theme = SimpleZebraTheme()"
   ]
  },
  {
   "cell_type": "code",
   "execution_count": 3,
   "metadata": {},
   "outputs": [],
   "source": [
    "puzzle_gen = ZebraGen()"
   ]
  },
  {
   "cell_type": "code",
   "execution_count": 7,
   "metadata": {},
   "outputs": [],
   "source": [
    "f = puzzle_gen.rnd_formula()"
   ]
  },
  {
   "cell_type": "code",
   "execution_count": 8,
   "metadata": {},
   "outputs": [
    {
     "data": {
      "text/plain": [
       "Cat lives in a yellow house. or Writer lives at number 2."
      ]
     },
     "execution_count": 8,
     "metadata": {},
     "output_type": "execute_result"
    }
   ],
   "source": [
    "f"
   ]
  },
  {
   "cell_type": "code",
   "execution_count": 9,
   "metadata": {},
   "outputs": [],
   "source": [
    "formulas, substitution = puzzle_gen.gen_formulas(max_n_formulas=20)"
   ]
  },
  {
   "cell_type": "code",
   "execution_count": 20,
   "metadata": {},
   "outputs": [
    {
     "name": "stdout",
     "output_type": "stream",
     "text": [
      "\n",
      "There are 4 houses on a street with numbers from 1 to 4.\n",
      "Each house is painted in a distinct color and the colors are: red, green, orange, yellow.\n",
      "Only one person lives in each house and these people are: carpenter, chef, teacher, writer. \n",
      "Each of them has one of the following hobbies: knitting, cooking, playing guitar, painting\n",
      "There are 4 pets: fish, cat, dog, rabbit - one in each house.\n",
      "\n",
      "\n",
      "1. A person who lives in a red house is knitting or rabbit lives in the house number 2 or both.\n",
      "2. Chef lives in a green house or a person who lives at number 2 is painting or both.\n",
      "3. Writer has a dog or teacher lives at number 4 or both.\n",
      "4. Teacher lives in a yellow house or a person who lives at number 2 is knitting or both.\n",
      "5. Teacher lives in a green house or the house number 3 is yellow or both.\n",
      "6. Teacher is cooking or the house number 1 is orange or both.\n",
      "7. Fish lives in a yellow house or chef lives at number 1 or both.\n",
      "8. A person who lives in a red house is cooking or fish lives in the house number 2 or both.\n",
      "9. Owner of a cat is knitting or a person who lives at number 3 is knitting or both.\n",
      "10. A person who lives in a red house is playing guitar or the house number 2 is orange or both.\n",
      "\n",
      "\n",
      "Answer who lives at which address and what stuff is there. Prepare respose in a well formatted JSON like the following example:\n",
      "{\"colors\": [\"red\", \"green\", \"orange\", \"yellow\"], \"hobbies\": [\"knitting\", \"cooking\", \"playing guitar\", \"painting\"], \"pets\": [\"fish\", \"cat\", \"dog\", \"rabbit\"], \"professions\": [\"carpenter\", \"chef\", \"teacher\", \"writer\"]}\n",
      "\n"
     ]
    }
   ],
   "source": [
    "print(puzzle_gen.describe_puzzle(formulas))"
   ]
  },
  {
   "cell_type": "code",
   "execution_count": 21,
   "metadata": {},
   "outputs": [
    {
     "data": {
      "text/plain": [
       "{X: {\"colors\": [\"red\", \"orange\", \"yellow\", \"green\"], \"hobbies\": [\"knitting\", \"painting\", \"cooking\", \"playing guitar\"], \"pets\": [\"cat\", \"fish\", \"rabbit\", \"dog\"], \"professions\": [\"chef\", \"carpenter\", \"teacher\", \"writer\"]}}"
      ]
     },
     "execution_count": 21,
     "metadata": {},
     "output_type": "execute_result"
    }
   ],
   "source": [
    "substitution"
   ]
  }
 ],
 "metadata": {
  "kernelspec": {
   "display_name": ".venv",
   "language": "python",
   "name": "python3"
  },
  "language_info": {
   "codemirror_mode": {
    "name": "ipython",
    "version": 3
   },
   "file_extension": ".py",
   "mimetype": "text/x-python",
   "name": "python",
   "nbconvert_exporter": "python",
   "pygments_lexer": "ipython3",
   "version": "3.9.13"
  }
 },
 "nbformat": 4,
 "nbformat_minor": 2
}
