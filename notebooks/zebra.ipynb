{
 "cells": [
  {
   "cell_type": "code",
   "execution_count": 1,
   "metadata": {},
   "outputs": [],
   "source": [
    "%load_ext autoreload\n",
    "%autoreload 2"
   ]
  },
  {
   "cell_type": "code",
   "execution_count": 2,
   "metadata": {},
   "outputs": [],
   "source": [
    "from guessn.core import *\n",
    "from guessn.themes.zebra.simple_zebra import SimpleZebraTheme\n",
    "from guessn.models.zebra import ZebraGen\n",
    "\n",
    "GF.default_theme = SimpleZebraTheme()"
   ]
  },
  {
   "cell_type": "code",
   "execution_count": 3,
   "metadata": {},
   "outputs": [],
   "source": [
    "puzzle_gen = ZebraGen()"
   ]
  },
  {
   "cell_type": "code",
   "execution_count": 48,
   "metadata": {},
   "outputs": [],
   "source": [
    "formulas, substitution = puzzle_gen.gen_formulas(max_n_formulas=20)"
   ]
  },
  {
   "cell_type": "code",
   "execution_count": 52,
   "metadata": {},
   "outputs": [
    {
     "name": "stdout",
     "output_type": "stream",
     "text": [
      "\n",
      "There are 4 houses on a street with numbers from 1 to 4.\n",
      "Each house is painted in a distinct color and the colors are: red, green, orange, yellow.\n",
      "Only one person lives in each house and these people are: carpenter, chef, teacher, writer. \n",
      "Each of them has one of the following hobbies: knitting, cooking, playing guitar, painting\n",
      "There are 4 pets: fish, cat, dog, rabbit - one in each house.\n",
      "\n",
      "\n",
      "1. A teacher lives at number 3.\n",
      "2. A writer has a dog.\n",
      "3. A carpenter is cooking or a writer lives in a orange house or both.\n",
      "4. A chef lives in a orange house or a chef lives in a yellow house or both.\n",
      "5. A chef has a rabbit.\n",
      "6. A writer is cooking or an owner of a cat is knitting or both.\n",
      "7. A fish lives in the house number 4.\n",
      "8. A person who lives at number 3 is painting.\n",
      "9. A person who lives in a red house is playing guitar or a person who lives at number 3 is cooking or both.\n",
      "10. The house number 1 is yellow or a person who lives at number 4 is knitting or both.\n",
      "\n",
      "Answer what are colors of houses and who lives at which address and what stuff is there. Also answer which hobby is whose.\n",
      "\n",
      "Prepare response in a well formatted JSON like the following example:\n",
      "{\"colors\": [\"red\", \"green\", \"orange\", \"yellow\"], \"hobbies\": [\"knitting\", \"cooking\", \"playing guitar\", \"painting\"], \"pets\": [\"fish\", \"cat\", \"dog\", \"rabbit\"], \"professions\": [\"carpenter\", \"chef\", \"teacher\", \"writer\"]}\n",
      "\n"
     ]
    }
   ],
   "source": [
    "print(puzzle_gen.describe_puzzle(formulas))"
   ]
  },
  {
   "cell_type": "code",
   "execution_count": 53,
   "metadata": {},
   "outputs": [
    {
     "data": {
      "text/plain": [
       "{X: {\"colors\": [\"yellow\", \"orange\", \"green\", \"red\"], \"hobbies\": [\"knitting\", \"cooking\", \"painting\", \"playing guitar\"], \"pets\": [\"rabbit\", \"dog\", \"cat\", \"fish\"], \"professions\": [\"chef\", \"writer\", \"teacher\", \"carpenter\"]}}"
      ]
     },
     "execution_count": 53,
     "metadata": {},
     "output_type": "execute_result"
    }
   ],
   "source": [
    "substitution"
   ]
  }
 ],
 "metadata": {
  "kernelspec": {
   "display_name": ".venv",
   "language": "python",
   "name": "python3"
  },
  "language_info": {
   "codemirror_mode": {
    "name": "ipython",
    "version": 3
   },
   "file_extension": ".py",
   "mimetype": "text/x-python",
   "name": "python",
   "nbconvert_exporter": "python",
   "pygments_lexer": "ipython3",
   "version": "3.9.13"
  }
 },
 "nbformat": 4,
 "nbformat_minor": 2
}
